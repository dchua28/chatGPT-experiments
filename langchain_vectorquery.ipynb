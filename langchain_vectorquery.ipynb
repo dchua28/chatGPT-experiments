{
 "cells": [
  {
   "cell_type": "code",
   "execution_count": 6,
   "id": "5c23ce4c-6d06-4eb7-bbf4-54f9464bc6ca",
   "metadata": {},
   "outputs": [
    {
     "name": "stdout",
     "output_type": "stream",
     "text": [
      "Requirement already satisfied: langchain_community in ./lib/python3.10/site-packages (0.2.7)\n",
      "Requirement already satisfied: PyYAML>=5.3 in ./lib/python3.10/site-packages (from langchain_community) (6.0.1)\n",
      "Requirement already satisfied: langchain-core<0.3.0,>=0.2.12 in ./lib/python3.10/site-packages (from langchain_community) (0.2.21)\n",
      "Requirement already satisfied: aiohttp<4.0.0,>=3.8.3 in ./lib/python3.10/site-packages (from langchain_community) (3.9.5)\n",
      "Requirement already satisfied: requests<3,>=2 in ./lib/python3.10/site-packages (from langchain_community) (2.32.3)\n",
      "Requirement already satisfied: langchain<0.3.0,>=0.2.7 in ./lib/python3.10/site-packages (from langchain_community) (0.2.9)\n",
      "Requirement already satisfied: dataclasses-json<0.7,>=0.5.7 in ./lib/python3.10/site-packages (from langchain_community) (0.6.7)\n",
      "Requirement already satisfied: langsmith<0.2.0,>=0.1.0 in ./lib/python3.10/site-packages (from langchain_community) (0.1.90)\n",
      "Requirement already satisfied: numpy<2,>=1 in ./lib/python3.10/site-packages (from langchain_community) (1.26.4)\n",
      "Requirement already satisfied: tenacity!=8.4.0,<9.0.0,>=8.1.0 in ./lib/python3.10/site-packages (from langchain_community) (8.5.0)\n",
      "Requirement already satisfied: SQLAlchemy<3,>=1.4 in ./lib/python3.10/site-packages (from langchain_community) (2.0.31)\n",
      "Requirement already satisfied: aiosignal>=1.1.2 in ./lib/python3.10/site-packages (from aiohttp<4.0.0,>=3.8.3->langchain_community) (1.3.1)\n",
      "Requirement already satisfied: attrs>=17.3.0 in ./lib/python3.10/site-packages (from aiohttp<4.0.0,>=3.8.3->langchain_community) (23.2.0)\n",
      "Requirement already satisfied: frozenlist>=1.1.1 in ./lib/python3.10/site-packages (from aiohttp<4.0.0,>=3.8.3->langchain_community) (1.4.1)\n",
      "Requirement already satisfied: async-timeout<5.0,>=4.0 in ./lib/python3.10/site-packages (from aiohttp<4.0.0,>=3.8.3->langchain_community) (4.0.3)\n",
      "Requirement already satisfied: yarl<2.0,>=1.0 in ./lib/python3.10/site-packages (from aiohttp<4.0.0,>=3.8.3->langchain_community) (1.9.4)\n",
      "Requirement already satisfied: multidict<7.0,>=4.5 in ./lib/python3.10/site-packages (from aiohttp<4.0.0,>=3.8.3->langchain_community) (6.0.5)\n",
      "Requirement already satisfied: marshmallow<4.0.0,>=3.18.0 in ./lib/python3.10/site-packages (from dataclasses-json<0.7,>=0.5.7->langchain_community) (3.21.3)\n",
      "Requirement already satisfied: typing-inspect<1,>=0.4.0 in ./lib/python3.10/site-packages (from dataclasses-json<0.7,>=0.5.7->langchain_community) (0.9.0)\n",
      "Requirement already satisfied: langchain-text-splitters<0.3.0,>=0.2.0 in ./lib/python3.10/site-packages (from langchain<0.3.0,>=0.2.7->langchain_community) (0.2.2)\n",
      "Requirement already satisfied: pydantic<3,>=1 in ./lib/python3.10/site-packages (from langchain<0.3.0,>=0.2.7->langchain_community) (2.8.2)\n",
      "Requirement already satisfied: packaging<25,>=23.2 in ./lib/python3.10/site-packages (from langchain-core<0.3.0,>=0.2.12->langchain_community) (24.1)\n",
      "Requirement already satisfied: jsonpatch<2.0,>=1.33 in ./lib/python3.10/site-packages (from langchain-core<0.3.0,>=0.2.12->langchain_community) (1.33)\n",
      "Requirement already satisfied: orjson<4.0.0,>=3.9.14 in ./lib/python3.10/site-packages (from langsmith<0.2.0,>=0.1.0->langchain_community) (3.10.6)\n",
      "Requirement already satisfied: idna<4,>=2.5 in ./lib/python3.10/site-packages (from requests<3,>=2->langchain_community) (3.7)\n",
      "Requirement already satisfied: certifi>=2017.4.17 in ./lib/python3.10/site-packages (from requests<3,>=2->langchain_community) (2024.7.4)\n",
      "Requirement already satisfied: charset-normalizer<4,>=2 in ./lib/python3.10/site-packages (from requests<3,>=2->langchain_community) (3.3.2)\n",
      "Requirement already satisfied: urllib3<3,>=1.21.1 in ./lib/python3.10/site-packages (from requests<3,>=2->langchain_community) (2.2.2)\n",
      "Requirement already satisfied: greenlet!=0.4.17 in ./lib/python3.10/site-packages (from SQLAlchemy<3,>=1.4->langchain_community) (3.0.3)\n",
      "Requirement already satisfied: typing-extensions>=4.6.0 in ./lib/python3.10/site-packages (from SQLAlchemy<3,>=1.4->langchain_community) (4.12.2)\n",
      "Requirement already satisfied: jsonpointer>=1.9 in ./lib/python3.10/site-packages (from jsonpatch<2.0,>=1.33->langchain-core<0.3.0,>=0.2.12->langchain_community) (3.0.0)\n",
      "Requirement already satisfied: annotated-types>=0.4.0 in ./lib/python3.10/site-packages (from pydantic<3,>=1->langchain<0.3.0,>=0.2.7->langchain_community) (0.7.0)\n",
      "Requirement already satisfied: pydantic-core==2.20.1 in ./lib/python3.10/site-packages (from pydantic<3,>=1->langchain<0.3.0,>=0.2.7->langchain_community) (2.20.1)\n",
      "Requirement already satisfied: mypy-extensions>=0.3.0 in ./lib/python3.10/site-packages (from typing-inspect<1,>=0.4.0->dataclasses-json<0.7,>=0.5.7->langchain_community) (1.0.0)\n",
      "Requirement already satisfied: langchain_openai in ./lib/python3.10/site-packages (0.1.17)\n",
      "Requirement already satisfied: langchain-core<0.3.0,>=0.2.20 in ./lib/python3.10/site-packages (from langchain_openai) (0.2.21)\n",
      "Requirement already satisfied: openai<2.0.0,>=1.32.0 in ./lib/python3.10/site-packages (from langchain_openai) (1.35.15)\n",
      "Requirement already satisfied: tiktoken<1,>=0.7 in ./lib/python3.10/site-packages (from langchain_openai) (0.7.0)\n",
      "Requirement already satisfied: jsonpatch<2.0,>=1.33 in ./lib/python3.10/site-packages (from langchain-core<0.3.0,>=0.2.20->langchain_openai) (1.33)\n",
      "Requirement already satisfied: PyYAML>=5.3 in ./lib/python3.10/site-packages (from langchain-core<0.3.0,>=0.2.20->langchain_openai) (6.0.1)\n",
      "Requirement already satisfied: tenacity!=8.4.0,<9.0.0,>=8.1.0 in ./lib/python3.10/site-packages (from langchain-core<0.3.0,>=0.2.20->langchain_openai) (8.5.0)\n",
      "Requirement already satisfied: pydantic<3,>=1 in ./lib/python3.10/site-packages (from langchain-core<0.3.0,>=0.2.20->langchain_openai) (2.8.2)\n",
      "Requirement already satisfied: langsmith<0.2.0,>=0.1.75 in ./lib/python3.10/site-packages (from langchain-core<0.3.0,>=0.2.20->langchain_openai) (0.1.90)\n",
      "Requirement already satisfied: packaging<25,>=23.2 in ./lib/python3.10/site-packages (from langchain-core<0.3.0,>=0.2.20->langchain_openai) (24.1)\n",
      "Requirement already satisfied: sniffio in ./lib/python3.10/site-packages (from openai<2.0.0,>=1.32.0->langchain_openai) (1.3.1)\n",
      "Requirement already satisfied: tqdm>4 in ./lib/python3.10/site-packages (from openai<2.0.0,>=1.32.0->langchain_openai) (4.66.4)\n",
      "Requirement already satisfied: typing-extensions<5,>=4.7 in ./lib/python3.10/site-packages (from openai<2.0.0,>=1.32.0->langchain_openai) (4.12.2)\n",
      "Requirement already satisfied: anyio<5,>=3.5.0 in ./lib/python3.10/site-packages (from openai<2.0.0,>=1.32.0->langchain_openai) (4.4.0)\n",
      "Requirement already satisfied: httpx<1,>=0.23.0 in ./lib/python3.10/site-packages (from openai<2.0.0,>=1.32.0->langchain_openai) (0.27.0)\n",
      "Requirement already satisfied: distro<2,>=1.7.0 in ./lib/python3.10/site-packages (from openai<2.0.0,>=1.32.0->langchain_openai) (1.9.0)\n",
      "Requirement already satisfied: regex>=2022.1.18 in ./lib/python3.10/site-packages (from tiktoken<1,>=0.7->langchain_openai) (2024.5.15)\n",
      "Requirement already satisfied: requests>=2.26.0 in ./lib/python3.10/site-packages (from tiktoken<1,>=0.7->langchain_openai) (2.32.3)\n",
      "Requirement already satisfied: idna>=2.8 in ./lib/python3.10/site-packages (from anyio<5,>=3.5.0->openai<2.0.0,>=1.32.0->langchain_openai) (3.7)\n",
      "Requirement already satisfied: exceptiongroup>=1.0.2 in ./lib/python3.10/site-packages (from anyio<5,>=3.5.0->openai<2.0.0,>=1.32.0->langchain_openai) (1.2.2)\n",
      "Requirement already satisfied: httpcore==1.* in ./lib/python3.10/site-packages (from httpx<1,>=0.23.0->openai<2.0.0,>=1.32.0->langchain_openai) (1.0.5)\n",
      "Requirement already satisfied: certifi in ./lib/python3.10/site-packages (from httpx<1,>=0.23.0->openai<2.0.0,>=1.32.0->langchain_openai) (2024.7.4)\n",
      "Requirement already satisfied: h11<0.15,>=0.13 in ./lib/python3.10/site-packages (from httpcore==1.*->httpx<1,>=0.23.0->openai<2.0.0,>=1.32.0->langchain_openai) (0.14.0)\n",
      "Requirement already satisfied: jsonpointer>=1.9 in ./lib/python3.10/site-packages (from jsonpatch<2.0,>=1.33->langchain-core<0.3.0,>=0.2.20->langchain_openai) (3.0.0)\n",
      "Requirement already satisfied: orjson<4.0.0,>=3.9.14 in ./lib/python3.10/site-packages (from langsmith<0.2.0,>=0.1.75->langchain-core<0.3.0,>=0.2.20->langchain_openai) (3.10.6)\n",
      "Requirement already satisfied: pydantic-core==2.20.1 in ./lib/python3.10/site-packages (from pydantic<3,>=1->langchain-core<0.3.0,>=0.2.20->langchain_openai) (2.20.1)\n",
      "Requirement already satisfied: annotated-types>=0.4.0 in ./lib/python3.10/site-packages (from pydantic<3,>=1->langchain-core<0.3.0,>=0.2.20->langchain_openai) (0.7.0)\n",
      "Requirement already satisfied: charset-normalizer<4,>=2 in ./lib/python3.10/site-packages (from requests>=2.26.0->tiktoken<1,>=0.7->langchain_openai) (3.3.2)\n",
      "Requirement already satisfied: urllib3<3,>=1.21.1 in ./lib/python3.10/site-packages (from requests>=2.26.0->tiktoken<1,>=0.7->langchain_openai) (2.2.2)\n",
      "Requirement already satisfied: langchain in ./lib/python3.10/site-packages (0.2.9)\n",
      "Requirement already satisfied: aiohttp<4.0.0,>=3.8.3 in ./lib/python3.10/site-packages (from langchain) (3.9.5)\n",
      "Requirement already satisfied: PyYAML>=5.3 in ./lib/python3.10/site-packages (from langchain) (6.0.1)\n",
      "Requirement already satisfied: numpy<2,>=1 in ./lib/python3.10/site-packages (from langchain) (1.26.4)\n",
      "Requirement already satisfied: pydantic<3,>=1 in ./lib/python3.10/site-packages (from langchain) (2.8.2)\n",
      "Requirement already satisfied: requests<3,>=2 in ./lib/python3.10/site-packages (from langchain) (2.32.3)\n",
      "Requirement already satisfied: tenacity!=8.4.0,<9.0.0,>=8.1.0 in ./lib/python3.10/site-packages (from langchain) (8.5.0)\n",
      "Requirement already satisfied: langchain-core<0.3.0,>=0.2.20 in ./lib/python3.10/site-packages (from langchain) (0.2.21)\n",
      "Requirement already satisfied: async-timeout<5.0.0,>=4.0.0 in ./lib/python3.10/site-packages (from langchain) (4.0.3)\n",
      "Requirement already satisfied: SQLAlchemy<3,>=1.4 in ./lib/python3.10/site-packages (from langchain) (2.0.31)\n",
      "Requirement already satisfied: langchain-text-splitters<0.3.0,>=0.2.0 in ./lib/python3.10/site-packages (from langchain) (0.2.2)\n",
      "Requirement already satisfied: langsmith<0.2.0,>=0.1.17 in ./lib/python3.10/site-packages (from langchain) (0.1.90)\n",
      "Requirement already satisfied: attrs>=17.3.0 in ./lib/python3.10/site-packages (from aiohttp<4.0.0,>=3.8.3->langchain) (23.2.0)\n",
      "Requirement already satisfied: multidict<7.0,>=4.5 in ./lib/python3.10/site-packages (from aiohttp<4.0.0,>=3.8.3->langchain) (6.0.5)\n",
      "Requirement already satisfied: frozenlist>=1.1.1 in ./lib/python3.10/site-packages (from aiohttp<4.0.0,>=3.8.3->langchain) (1.4.1)\n",
      "Requirement already satisfied: aiosignal>=1.1.2 in ./lib/python3.10/site-packages (from aiohttp<4.0.0,>=3.8.3->langchain) (1.3.1)\n",
      "Requirement already satisfied: yarl<2.0,>=1.0 in ./lib/python3.10/site-packages (from aiohttp<4.0.0,>=3.8.3->langchain) (1.9.4)\n",
      "Requirement already satisfied: jsonpatch<2.0,>=1.33 in ./lib/python3.10/site-packages (from langchain-core<0.3.0,>=0.2.20->langchain) (1.33)\n",
      "Requirement already satisfied: packaging<25,>=23.2 in ./lib/python3.10/site-packages (from langchain-core<0.3.0,>=0.2.20->langchain) (24.1)\n",
      "Requirement already satisfied: orjson<4.0.0,>=3.9.14 in ./lib/python3.10/site-packages (from langsmith<0.2.0,>=0.1.17->langchain) (3.10.6)\n",
      "Requirement already satisfied: annotated-types>=0.4.0 in ./lib/python3.10/site-packages (from pydantic<3,>=1->langchain) (0.7.0)\n",
      "Requirement already satisfied: typing-extensions>=4.6.1 in ./lib/python3.10/site-packages (from pydantic<3,>=1->langchain) (4.12.2)\n",
      "Requirement already satisfied: pydantic-core==2.20.1 in ./lib/python3.10/site-packages (from pydantic<3,>=1->langchain) (2.20.1)\n",
      "Requirement already satisfied: certifi>=2017.4.17 in ./lib/python3.10/site-packages (from requests<3,>=2->langchain) (2024.7.4)\n",
      "Requirement already satisfied: idna<4,>=2.5 in ./lib/python3.10/site-packages (from requests<3,>=2->langchain) (3.7)\n",
      "Requirement already satisfied: charset-normalizer<4,>=2 in ./lib/python3.10/site-packages (from requests<3,>=2->langchain) (3.3.2)\n",
      "Requirement already satisfied: urllib3<3,>=1.21.1 in ./lib/python3.10/site-packages (from requests<3,>=2->langchain) (2.2.2)\n",
      "Requirement already satisfied: greenlet!=0.4.17 in ./lib/python3.10/site-packages (from SQLAlchemy<3,>=1.4->langchain) (3.0.3)\n",
      "Requirement already satisfied: jsonpointer>=1.9 in ./lib/python3.10/site-packages (from jsonpatch<2.0,>=1.33->langchain-core<0.3.0,>=0.2.20->langchain) (3.0.0)\n",
      "Requirement already satisfied: python-dotenv in ./lib/python3.10/site-packages (1.0.1)\n"
     ]
    }
   ],
   "source": [
    "!pip install langchain_community\n",
    "!pip install langchain_openai\n",
    "!pip install langchain\n",
    "!pip install python-dotenv"
   ]
  },
  {
   "cell_type": "code",
   "execution_count": 2,
   "id": "9b952045-941a-45a1-b5f2-1ab36da0914f",
   "metadata": {},
   "outputs": [
    {
     "name": "stdout",
     "output_type": "stream",
     "text": [
      "Overwriting langchain-openai-luftairchatlog.txt\n"
     ]
    }
   ],
   "source": [
    "%%writefile langchain-openai-luftairchatlog.txt\n",
    "We are flying Lufthansa premium economy from Charlotte to Munich in Sept. \n",
    "Has anyone else flown with them in this class? \n",
    "If so can you review the experience. \n",
    "I paid $200 extra for each seat from Charlotte to Munich but had to pay $500 extra for each seat on the way home from Munich to Charlotte.\n",
    "Not sure why this huge disparity but was essentially told by Lufthansa \"we do so because we can\". \n",
    "Thanks for your response in advance....\n"
   ]
  },
  {
   "cell_type": "code",
   "execution_count": 3,
   "id": "2f515919-3c45-4a8c-baf9-f4e0b8a0f028",
   "metadata": {},
   "outputs": [],
   "source": [
    "import os\n",
    "from langchain_community.document_loaders import TextLoader\n",
    "from langchain_openai import OpenAIEmbeddings\n",
    "from langchain.text_splitter import CharacterTextSplitter\n",
    "from langchain_community.vectorstores import FAISS\n",
    "from langchain.chains import RetrievalQA\n",
    "from langchain_openai import OpenAI\n",
    "from dotenv import load_dotenv"
   ]
  },
  {
   "cell_type": "code",
   "execution_count": 5,
   "id": "84b9a166-66ee-4895-b6ff-0e0f90097e6e",
   "metadata": {},
   "outputs": [
    {
     "name": "stdout",
     "output_type": "stream",
     "text": [
      "{'query': 'What airline was being discussed?', 'result': ' Lufthansa'}\n",
      "\n",
      "{'query': 'Which city did the flight depart from?', 'result': ' The flight departed from Charlotte.'}\n",
      "\n",
      "{'query': 'Did they fly economy class?', 'result': ' No, they flew premium economy class.'}\n",
      "\n",
      "{'query': 'How much was paid for an extra seat from Charlotte?', 'result': ' $200'}\n",
      "\n",
      "{'query': 'How much was paid for an extra seat from Munich?', 'result': ' $500'}\n",
      "\n",
      "{'query': 'How much was paid for an extra seat from Cebu?', 'result': \" I don't have enough information to answer this question. The context given is about a flight from Charlotte to Munich and does not mention Cebu.\"}\n",
      "\n",
      "{'query': 'Did the passenger enjoy her flight?', 'result': \" I don't know.\"}\n",
      "\n"
     ]
    }
   ],
   "source": [
    "load_dotenv()\n",
    "\n",
    "raw_documents = TextLoader('langchain-openai-luftairchatlog.txt').load()\n",
    "text_splitter = CharacterTextSplitter(chunk_size=200,\n",
    "                                      chunk_overlap=0,\n",
    "                                      separator=\"\\n\",)\n",
    "documents = text_splitter.split_documents(raw_documents)\n",
    "db = FAISS.from_documents(documents, OpenAIEmbeddings())\n",
    "\n",
    "retriever = db.as_retriever()\n",
    "qa = RetrievalQA.from_chain_type(\n",
    "    llm=OpenAI(),\n",
    "    chain_type=\"stuff\",\n",
    "    retriever=retriever\n",
    ")\n",
    "\n",
    "query_list = [\n",
    "    \"What airline was being discussed?\",\n",
    "    \"Which city did the flight depart from?\",\n",
    "    \"Did they fly economy class?\",\n",
    "    \"How much was paid for an extra seat from Charlotte?\",\n",
    "    \"How much was paid for an extra seat from Munich?\",\n",
    "    \"How much was paid for an extra seat from Cebu?\",\n",
    "    \"Did the passenger enjoy her flight?\"\n",
    "    ]\n",
    "\n",
    "for query in query_list:\n",
    "    print(f\"{qa.invoke(query)}\\n\")"
   ]
  }
 ],
 "metadata": {
  "kernelspec": {
   "display_name": "Python 3 (ipykernel)",
   "language": "python",
   "name": "python3"
  },
  "language_info": {
   "codemirror_mode": {
    "name": "ipython",
    "version": 3
   },
   "file_extension": ".py",
   "mimetype": "text/x-python",
   "name": "python",
   "nbconvert_exporter": "python",
   "pygments_lexer": "ipython3",
   "version": "3.10.12"
  }
 },
 "nbformat": 4,
 "nbformat_minor": 5
}
