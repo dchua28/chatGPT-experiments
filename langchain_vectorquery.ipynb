{
 "cells": [
  {
   "cell_type": "code",
   "execution_count": null,
   "id": "5c23ce4c-6d06-4eb7-bbf4-54f9464bc6ca",
   "metadata": {
    "scrolled": true
   },
   "outputs": [],
   "source": [
    "!pip install langchain_community\n",
    "!pip install langchain_openai\n",
    "!pip install langchain\n",
    "!pip install python-dotenv"
   ]
  },
  {
   "cell_type": "code",
   "execution_count": null,
   "id": "9b952045-941a-45a1-b5f2-1ab36da0914f",
   "metadata": {},
   "outputs": [],
   "source": [
    "%%writefile langchain-openai-luftairchatlog.txt\n",
    "We are flying Lufthansa premium economy from Charlotte to Munich in Sept. \n",
    "Has anyone else flown with them in this class? \n",
    "If so can you review the experience. \n",
    "I paid $200 extra for each seat from Charlotte to Munich but had to pay $500 extra for each seat on the way home from Munich to Charlotte.\n",
    "Not sure why this huge disparity but was essentially told by Lufthansa \"we do so because we can\". \n",
    "Thanks for your response in advance....\n"
   ]
  },
  {
   "cell_type": "code",
   "execution_count": 3,
   "id": "2f515919-3c45-4a8c-baf9-f4e0b8a0f028",
   "metadata": {},
   "outputs": [],
   "source": [
    "import os\n",
    "from langchain_community.document_loaders import TextLoader\n",
    "from langchain_openai import OpenAIEmbeddings\n",
    "from langchain.text_splitter import CharacterTextSplitter\n",
    "from langchain_community.vectorstores import FAISS\n",
    "from langchain.chains import RetrievalQA\n",
    "from langchain_openai import OpenAI\n",
    "from dotenv import load_dotenv"
   ]
  },
  {
   "cell_type": "code",
   "execution_count": null,
   "id": "84b9a166-66ee-4895-b6ff-0e0f90097e6e",
   "metadata": {},
   "outputs": [],
   "source": [
    "load_dotenv()\n",
    "\n",
    "raw_documents = TextLoader('langchain-openai-luftairchatlog.txt').load()\n",
    "text_splitter = CharacterTextSplitter(chunk_size=200,\n",
    "                                      chunk_overlap=0,\n",
    "                                      separator=\"\\n\",)\n",
    "documents = text_splitter.split_documents(raw_documents)\n",
    "db = FAISS.from_documents(documents, OpenAIEmbeddings())\n",
    "\n",
    "retriever = db.as_retriever()\n",
    "qa = RetrievalQA.from_chain_type(\n",
    "    llm=OpenAI(),\n",
    "    chain_type=\"stuff\",\n",
    "    retriever=retriever\n",
    ")\n",
    "\n",
    "query_list = [\n",
    "    \"What airline was being discussed?\",\n",
    "    \"Which city did the flight depart from?\",\n",
    "    \"Did they fly economy class?\",\n",
    "    \"How much was paid for an extra seat from Charlotte?\",\n",
    "    \"How much was paid for an extra seat from Munich?\",\n",
    "    \"How much was paid for an extra seat from Cebu?\",\n",
    "    \"Did the passenger enjoy her flight?\"\n",
    "    ]\n",
    "\n",
    "for query in query_list:\n",
    "    print(f\"{qa.invoke(query)}\\n\")"
   ]
  }
 ],
 "metadata": {
  "kernelspec": {
   "display_name": "Python 3 (ipykernel)",
   "language": "python",
   "name": "python3"
  },
  "language_info": {
   "codemirror_mode": {
    "name": "ipython",
    "version": 3
   },
   "file_extension": ".py",
   "mimetype": "text/x-python",
   "name": "python",
   "nbconvert_exporter": "python",
   "pygments_lexer": "ipython3",
   "version": "3.10.12"
  }
 },
 "nbformat": 4,
 "nbformat_minor": 5
}
